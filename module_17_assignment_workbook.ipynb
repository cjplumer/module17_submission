{
 "cells": [
  {
   "cell_type": "markdown",
   "metadata": {},
   "source": [
    "# Practical Application III: Comparing Classifiers\n",
    "\n",
    "**Overview**: In this practical application, your goal is to compare the performance of the classifiers we encountered in this section, namely K Nearest Neighbor, Logistic Regression, Decision Trees, and Support Vector Machines.  We will utilize a dataset related to marketing bank products over the telephone.  \n",
    "\n"
   ]
  },
  {
   "cell_type": "markdown",
   "metadata": {},
   "source": [
    "### Getting Started\n",
    "\n",
    "Our dataset comes from the UCI Machine Learning repository [link](https://archive.ics.uci.edu/ml/datasets/bank+marketing).  The data is from a Portugese banking institution and is a collection of the results of multiple marketing campaigns.  We will make use of the article accompanying the dataset [here](CRISP-DM-BANK.pdf) for more information on the data and features.\n",
    "\n"
   ]
  },
  {
   "cell_type": "markdown",
   "metadata": {},
   "source": [
    "## Problem 1: Understanding the Data\n",
    "\n",
    "To gain a better understanding of the data, please read the information provided in the UCI link above, and examine the **Materials and Methods** section of the paper.  How many marketing campaigns does this data represent?"
   ]
  },
  {
   "cell_type": "markdown",
   "metadata": {},
   "source": [
    "### Data description\n",
    "* According to the UCI information, this data represents 17 campaigns\n",
    "* conducted between May 2008 and November 2010 by a Portuguese banking institution.\n",
    "* The calls were related to selling term deposits (bank certificate products)."
   ]
  },
  {
   "cell_type": "markdown",
   "metadata": {},
   "source": [
    "## Problem 2: Read in the Data\n",
    "\n",
    "Use pandas to read in the dataset `bank-additional-full.csv` and assign to a meaningful variable name."
   ]
  },
  {
   "cell_type": "code",
   "execution_count": 1,
   "metadata": {},
   "outputs": [],
   "source": [
    "import pandas as pd"
   ]
  },
  {
   "cell_type": "code",
   "execution_count": 3,
   "metadata": {},
   "outputs": [],
   "source": [
    "df = pd.read_csv('data/bank-additional-full.csv', sep = ';')"
   ]
  },
  {
   "cell_type": "code",
   "execution_count": 5,
   "metadata": {},
   "outputs": [
    {
     "data": {
      "text/html": [
       "<div>\n",
       "<style scoped>\n",
       "    .dataframe tbody tr th:only-of-type {\n",
       "        vertical-align: middle;\n",
       "    }\n",
       "\n",
       "    .dataframe tbody tr th {\n",
       "        vertical-align: top;\n",
       "    }\n",
       "\n",
       "    .dataframe thead th {\n",
       "        text-align: right;\n",
       "    }\n",
       "</style>\n",
       "<table border=\"1\" class=\"dataframe\">\n",
       "  <thead>\n",
       "    <tr style=\"text-align: right;\">\n",
       "      <th></th>\n",
       "      <th>age</th>\n",
       "      <th>job</th>\n",
       "      <th>marital</th>\n",
       "      <th>education</th>\n",
       "      <th>default</th>\n",
       "      <th>housing</th>\n",
       "      <th>loan</th>\n",
       "      <th>contact</th>\n",
       "      <th>month</th>\n",
       "      <th>day_of_week</th>\n",
       "      <th>...</th>\n",
       "      <th>campaign</th>\n",
       "      <th>pdays</th>\n",
       "      <th>previous</th>\n",
       "      <th>poutcome</th>\n",
       "      <th>emp.var.rate</th>\n",
       "      <th>cons.price.idx</th>\n",
       "      <th>cons.conf.idx</th>\n",
       "      <th>euribor3m</th>\n",
       "      <th>nr.employed</th>\n",
       "      <th>y</th>\n",
       "    </tr>\n",
       "  </thead>\n",
       "  <tbody>\n",
       "    <tr>\n",
       "      <th>0</th>\n",
       "      <td>56</td>\n",
       "      <td>housemaid</td>\n",
       "      <td>married</td>\n",
       "      <td>basic.4y</td>\n",
       "      <td>no</td>\n",
       "      <td>no</td>\n",
       "      <td>no</td>\n",
       "      <td>telephone</td>\n",
       "      <td>may</td>\n",
       "      <td>mon</td>\n",
       "      <td>...</td>\n",
       "      <td>1</td>\n",
       "      <td>999</td>\n",
       "      <td>0</td>\n",
       "      <td>nonexistent</td>\n",
       "      <td>1.1</td>\n",
       "      <td>93.994</td>\n",
       "      <td>-36.4</td>\n",
       "      <td>4.857</td>\n",
       "      <td>5191.0</td>\n",
       "      <td>no</td>\n",
       "    </tr>\n",
       "    <tr>\n",
       "      <th>1</th>\n",
       "      <td>57</td>\n",
       "      <td>services</td>\n",
       "      <td>married</td>\n",
       "      <td>high.school</td>\n",
       "      <td>unknown</td>\n",
       "      <td>no</td>\n",
       "      <td>no</td>\n",
       "      <td>telephone</td>\n",
       "      <td>may</td>\n",
       "      <td>mon</td>\n",
       "      <td>...</td>\n",
       "      <td>1</td>\n",
       "      <td>999</td>\n",
       "      <td>0</td>\n",
       "      <td>nonexistent</td>\n",
       "      <td>1.1</td>\n",
       "      <td>93.994</td>\n",
       "      <td>-36.4</td>\n",
       "      <td>4.857</td>\n",
       "      <td>5191.0</td>\n",
       "      <td>no</td>\n",
       "    </tr>\n",
       "    <tr>\n",
       "      <th>2</th>\n",
       "      <td>37</td>\n",
       "      <td>services</td>\n",
       "      <td>married</td>\n",
       "      <td>high.school</td>\n",
       "      <td>no</td>\n",
       "      <td>yes</td>\n",
       "      <td>no</td>\n",
       "      <td>telephone</td>\n",
       "      <td>may</td>\n",
       "      <td>mon</td>\n",
       "      <td>...</td>\n",
       "      <td>1</td>\n",
       "      <td>999</td>\n",
       "      <td>0</td>\n",
       "      <td>nonexistent</td>\n",
       "      <td>1.1</td>\n",
       "      <td>93.994</td>\n",
       "      <td>-36.4</td>\n",
       "      <td>4.857</td>\n",
       "      <td>5191.0</td>\n",
       "      <td>no</td>\n",
       "    </tr>\n",
       "    <tr>\n",
       "      <th>3</th>\n",
       "      <td>40</td>\n",
       "      <td>admin.</td>\n",
       "      <td>married</td>\n",
       "      <td>basic.6y</td>\n",
       "      <td>no</td>\n",
       "      <td>no</td>\n",
       "      <td>no</td>\n",
       "      <td>telephone</td>\n",
       "      <td>may</td>\n",
       "      <td>mon</td>\n",
       "      <td>...</td>\n",
       "      <td>1</td>\n",
       "      <td>999</td>\n",
       "      <td>0</td>\n",
       "      <td>nonexistent</td>\n",
       "      <td>1.1</td>\n",
       "      <td>93.994</td>\n",
       "      <td>-36.4</td>\n",
       "      <td>4.857</td>\n",
       "      <td>5191.0</td>\n",
       "      <td>no</td>\n",
       "    </tr>\n",
       "    <tr>\n",
       "      <th>4</th>\n",
       "      <td>56</td>\n",
       "      <td>services</td>\n",
       "      <td>married</td>\n",
       "      <td>high.school</td>\n",
       "      <td>no</td>\n",
       "      <td>no</td>\n",
       "      <td>yes</td>\n",
       "      <td>telephone</td>\n",
       "      <td>may</td>\n",
       "      <td>mon</td>\n",
       "      <td>...</td>\n",
       "      <td>1</td>\n",
       "      <td>999</td>\n",
       "      <td>0</td>\n",
       "      <td>nonexistent</td>\n",
       "      <td>1.1</td>\n",
       "      <td>93.994</td>\n",
       "      <td>-36.4</td>\n",
       "      <td>4.857</td>\n",
       "      <td>5191.0</td>\n",
       "      <td>no</td>\n",
       "    </tr>\n",
       "  </tbody>\n",
       "</table>\n",
       "<p>5 rows × 21 columns</p>\n",
       "</div>"
      ],
      "text/plain": [
       "   age        job  marital    education  default housing loan    contact  \\\n",
       "0   56  housemaid  married     basic.4y       no      no   no  telephone   \n",
       "1   57   services  married  high.school  unknown      no   no  telephone   \n",
       "2   37   services  married  high.school       no     yes   no  telephone   \n",
       "3   40     admin.  married     basic.6y       no      no   no  telephone   \n",
       "4   56   services  married  high.school       no      no  yes  telephone   \n",
       "\n",
       "  month day_of_week  ...  campaign  pdays  previous     poutcome emp.var.rate  \\\n",
       "0   may         mon  ...         1    999         0  nonexistent          1.1   \n",
       "1   may         mon  ...         1    999         0  nonexistent          1.1   \n",
       "2   may         mon  ...         1    999         0  nonexistent          1.1   \n",
       "3   may         mon  ...         1    999         0  nonexistent          1.1   \n",
       "4   may         mon  ...         1    999         0  nonexistent          1.1   \n",
       "\n",
       "   cons.price.idx  cons.conf.idx  euribor3m  nr.employed   y  \n",
       "0          93.994          -36.4      4.857       5191.0  no  \n",
       "1          93.994          -36.4      4.857       5191.0  no  \n",
       "2          93.994          -36.4      4.857       5191.0  no  \n",
       "3          93.994          -36.4      4.857       5191.0  no  \n",
       "4          93.994          -36.4      4.857       5191.0  no  \n",
       "\n",
       "[5 rows x 21 columns]"
      ]
     },
     "execution_count": 5,
     "metadata": {},
     "output_type": "execute_result"
    }
   ],
   "source": [
    "df.head()"
   ]
  },
  {
   "cell_type": "markdown",
   "metadata": {},
   "source": [
    "## Problem 3: Understanding the Features\n",
    "\n",
    "\n",
    "Examine the data description below, and determine if any of the features are missing values or need to be coerced to a different data type.\n",
    "\n",
    "\n",
    "```\n",
    "Input variables:\n",
    "# bank client data:\n",
    "1 - age (numeric)\n",
    "2 - job : type of job (categorical: 'admin.','blue-collar','entrepreneur','housemaid','management','retired','self-employed','services','student','technician','unemployed','unknown')\n",
    "3 - marital : marital status (categorical: 'divorced','married','single','unknown'; note: 'divorced' means divorced or widowed)\n",
    "4 - education (categorical: 'basic.4y','basic.6y','basic.9y','high.school','illiterate','professional.course','university.degree','unknown')\n",
    "5 - default: has credit in default? (categorical: 'no','yes','unknown')\n",
    "6 - housing: has housing loan? (categorical: 'no','yes','unknown')\n",
    "7 - loan: has personal loan? (categorical: 'no','yes','unknown')\n",
    "# related with the last contact of the current campaign:\n",
    "8 - contact: contact communication type (categorical: 'cellular','telephone')\n",
    "9 - month: last contact month of year (categorical: 'jan', 'feb', 'mar', ..., 'nov', 'dec')\n",
    "10 - day_of_week: last contact day of the week (categorical: 'mon','tue','wed','thu','fri')\n",
    "11 - duration: last contact duration, in seconds (numeric). Important note: this attribute highly affects the output target (e.g., if duration=0 then y='no'). Yet, the duration is not known before a call is performed. Also, after the end of the call y is obviously known. Thus, this input should only be included for benchmark purposes and should be discarded if the intention is to have a realistic predictive model.\n",
    "# other attributes:\n",
    "12 - campaign: number of contacts performed during this campaign and for this client (numeric, includes last contact)\n",
    "13 - pdays: number of days that passed by after the client was last contacted from a previous campaign (numeric; 999 means client was not previously contacted)\n",
    "14 - previous: number of contacts performed before this campaign and for this client (numeric)\n",
    "15 - poutcome: outcome of the previous marketing campaign (categorical: 'failure','nonexistent','success')\n",
    "# social and economic context attributes\n",
    "16 - emp.var.rate: employment variation rate - quarterly indicator (numeric)\n",
    "17 - cons.price.idx: consumer price index - monthly indicator (numeric)\n",
    "18 - cons.conf.idx: consumer confidence index - monthly indicator (numeric)\n",
    "19 - euribor3m: euribor 3 month rate - daily indicator (numeric)\n",
    "20 - nr.employed: number of employees - quarterly indicator (numeric)\n",
    "\n",
    "Output variable (desired target):\n",
    "21 - y - has the client subscribed a term deposit? (binary: 'yes','no')\n",
    "```\n",
    "\n"
   ]
  },
  {
   "cell_type": "code",
   "execution_count": 7,
   "metadata": {},
   "outputs": [
    {
     "name": "stdout",
     "output_type": "stream",
     "text": [
      "Missing values per column:\n",
      "age               0\n",
      "job               0\n",
      "marital           0\n",
      "education         0\n",
      "default           0\n",
      "housing           0\n",
      "loan              0\n",
      "contact           0\n",
      "month             0\n",
      "day_of_week       0\n",
      "duration          0\n",
      "campaign          0\n",
      "pdays             0\n",
      "previous          0\n",
      "poutcome          0\n",
      "emp.var.rate      0\n",
      "cons.price.idx    0\n",
      "cons.conf.idx     0\n",
      "euribor3m         0\n",
      "nr.employed       0\n",
      "y                 0\n",
      "dtype: int64\n"
     ]
    }
   ],
   "source": [
    "# Check for missing values\n",
    "print(\"Missing values per column:\")\n",
    "print(df.isnull().sum())"
   ]
  },
  {
   "cell_type": "code",
   "execution_count": 9,
   "metadata": {},
   "outputs": [
    {
     "name": "stdout",
     "output_type": "stream",
     "text": [
      "\n",
      "Checking for 'unknown' values in categorical columns:\n",
      "job: 330 unknown values (0.80%)\n",
      "marital: 80 unknown values (0.19%)\n",
      "education: 1731 unknown values (4.20%)\n",
      "default: 8597 unknown values (20.87%)\n",
      "housing: 990 unknown values (2.40%)\n",
      "loan: 990 unknown values (2.40%)\n"
     ]
    }
   ],
   "source": [
    "# Check for 'unknown' values\n",
    "print(\"\\nChecking for 'unknown' values in categorical columns:\")\n",
    "for col in df.select_dtypes(include=['object']).columns:\n",
    "    unknown_count = df[df[col] == 'unknown'].shape[0]\n",
    "    if unknown_count > 0:\n",
    "        print(f\"{col}: {unknown_count} unknown values ({unknown_count/len(df)*100:.2f}%)\")"
   ]
  },
  {
   "cell_type": "code",
   "execution_count": 11,
   "metadata": {},
   "outputs": [
    {
     "name": "stdout",
     "output_type": "stream",
     "text": [
      "\n",
      "Target variable distribution:\n",
      "y\n",
      "no     36548\n",
      "yes     4640\n",
      "Name: count, dtype: int64\n",
      "Percentage of 'yes': 11.27%\n"
     ]
    }
   ],
   "source": [
    "# Check target variable distribution\n",
    "print(\"\\nTarget variable distribution:\")\n",
    "print(df['y'].value_counts())\n",
    "print(f\"Percentage of 'yes': {df['y'].value_counts(normalize=True)['yes']*100:.2f}%\")"
   ]
  },
  {
   "cell_type": "markdown",
   "metadata": {},
   "source": [
    "## Problem 4: Understanding the Task\n",
    "\n",
    "After examining the description and data, your goal now is to clearly state the *Business Objective* of the task.  State the objective below."
   ]
  },
  {
   "cell_type": "code",
   "execution_count": 13,
   "metadata": {},
   "outputs": [
    {
     "name": "stdout",
     "output_type": "stream",
     "text": [
      "<class 'pandas.core.frame.DataFrame'>\n",
      "RangeIndex: 41188 entries, 0 to 41187\n",
      "Data columns (total 21 columns):\n",
      " #   Column          Non-Null Count  Dtype  \n",
      "---  ------          --------------  -----  \n",
      " 0   age             41188 non-null  int64  \n",
      " 1   job             41188 non-null  object \n",
      " 2   marital         41188 non-null  object \n",
      " 3   education       41188 non-null  object \n",
      " 4   default         41188 non-null  object \n",
      " 5   housing         41188 non-null  object \n",
      " 6   loan            41188 non-null  object \n",
      " 7   contact         41188 non-null  object \n",
      " 8   month           41188 non-null  object \n",
      " 9   day_of_week     41188 non-null  object \n",
      " 10  duration        41188 non-null  int64  \n",
      " 11  campaign        41188 non-null  int64  \n",
      " 12  pdays           41188 non-null  int64  \n",
      " 13  previous        41188 non-null  int64  \n",
      " 14  poutcome        41188 non-null  object \n",
      " 15  emp.var.rate    41188 non-null  float64\n",
      " 16  cons.price.idx  41188 non-null  float64\n",
      " 17  cons.conf.idx   41188 non-null  float64\n",
      " 18  euribor3m       41188 non-null  float64\n",
      " 19  nr.employed     41188 non-null  float64\n",
      " 20  y               41188 non-null  object \n",
      "dtypes: float64(5), int64(5), object(11)\n",
      "memory usage: 6.6+ MB\n"
     ]
    }
   ],
   "source": [
    "df.info()"
   ]
  },
  {
   "cell_type": "markdown",
   "metadata": {},
   "source": [
    "### Business Objective:\n",
    "\n",
    "The business objective is to predict whether a client will subscribe to a term deposit (banking product) based on client information and previous contact data. This will help the bank identify potential customers more effectively, optimize their marketing campaigns, and increase the success rate of their telemarketing efforts while reducing costs."
   ]
  },
  {
   "cell_type": "markdown",
   "metadata": {},
   "source": [
    "## Problem 5: Engineering Features\n",
    "\n",
    "Now that you understand your business objective, we will build a basic model to get started.  Before we can do this, we must work to encode the data.  Using just the bank information features, prepare the features and target column for modeling with appropriate encoding and transformations."
   ]
  },
  {
   "cell_type": "code",
   "execution_count": 15,
   "metadata": {},
   "outputs": [
    {
     "name": "stdout",
     "output_type": "stream",
     "text": [
      "Categorical features: ['job', 'marital', 'education', 'default', 'housing', 'loan']\n",
      "Numerical features: ['age']\n",
      "Total number of processed features: 28\n"
     ]
    }
   ],
   "source": [
    "from sklearn.preprocessing import OneHotEncoder, StandardScaler\n",
    "import numpy as np\n",
    "\n",
    "# Select relevant features excluding campaign contact data\n",
    "bank_features = ['age', 'job', 'marital', 'education', 'default', 'housing', 'loan']\n",
    "\n",
    "# Create a copy of the relevant data\n",
    "X_bank = df[bank_features].copy()\n",
    "y = df['y'].map({'yes': 1, 'no': 0})  # Convert target to binary numeric\n",
    "\n",
    "# Identify categorical and numerical features\n",
    "categorical_features = X_bank.select_dtypes(include=['object']).columns\n",
    "numerical_features = X_bank.select_dtypes(include=['int64', 'float64']).columns\n",
    "\n",
    "print(f\"Categorical features: {list(categorical_features)}\")\n",
    "print(f\"Numerical features: {list(numerical_features)}\")\n",
    "\n",
    "# Process categorical features with OneHotEncoder\n",
    "try:\n",
    "    encoder = OneHotEncoder(sparse_output=False, drop='first')\n",
    "except TypeError:\n",
    "    encoder = OneHotEncoder(sparse=False, drop='first')\n",
    "\n",
    "encoded_cats = encoder.fit_transform(X_bank[categorical_features])\n",
    "encoded_feature_names = encoder.get_feature_names_out(categorical_features)\n",
    "\n",
    "# Process numerical features with StandardScaler\n",
    "scaler = StandardScaler()\n",
    "scaled_nums = scaler.fit_transform(X_bank[numerical_features])\n",
    "\n",
    "# Combine processed features into a single array\n",
    "X_processed = np.hstack((scaled_nums, encoded_cats))\n",
    "\n",
    "# Create a feature names list for later reference\n",
    "processed_feature_names = list(numerical_features) + list(encoded_feature_names)\n",
    "print(f\"Total number of processed features: {len(processed_feature_names)}\")"
   ]
  },
  {
   "cell_type": "markdown",
   "metadata": {},
   "source": [
    "## Problem 6: Train/Test Split\n",
    "\n",
    "With your data prepared, split it into a train and test set."
   ]
  },
  {
   "cell_type": "code",
   "execution_count": 18,
   "metadata": {},
   "outputs": [
    {
     "name": "stdout",
     "output_type": "stream",
     "text": [
      "Training set shape: (32950, 28)\n",
      "Testing set shape: (8238, 28)\n"
     ]
    }
   ],
   "source": [
    "from sklearn.model_selection import train_test_split\n",
    "\n",
    "# Split the data into training and testing sets\n",
    "X_train, X_test, y_train, y_test = train_test_split(\n",
    "    X_processed, y, test_size=0.2, random_state=42, stratify=y\n",
    ")\n",
    "\n",
    "print(f\"Training set shape: {X_train.shape}\")\n",
    "print(f\"Testing set shape: {X_test.shape}\")"
   ]
  },
  {
   "cell_type": "markdown",
   "metadata": {},
   "source": [
    "## Problem 7: A Baseline Model\n",
    "\n",
    "Before we build our first model, we want to establish a baseline.  What is the baseline performance that our classifier should aim to beat?"
   ]
  },
  {
   "cell_type": "code",
   "execution_count": 23,
   "metadata": {},
   "outputs": [
    {
     "name": "stdout",
     "output_type": "stream",
     "text": [
      "Baseline model accuracy: 0.8874\n",
      "\n",
      "Baseline Classification Report:\n",
      "              precision    recall  f1-score   support\n",
      "\n",
      "           0       0.89      1.00      0.94      7310\n",
      "           1       0.00      0.00      0.00       928\n",
      "\n",
      "    accuracy                           0.89      8238\n",
      "   macro avg       0.44      0.50      0.47      8238\n",
      "weighted avg       0.79      0.89      0.83      8238\n",
      "\n"
     ]
    }
   ],
   "source": [
    "from sklearn.dummy import DummyClassifier\n",
    "from sklearn.metrics import accuracy_score, classification_report\n",
    "\n",
    "# Create and fit a baseline model to predict the most frequent class\n",
    "baseline_model = DummyClassifier(strategy='most_frequent')\n",
    "baseline_model.fit(X_train, y_train)\n",
    "\n",
    "# Make predictions on the test set\n",
    "baseline_predictions = baseline_model.predict(X_test)\n",
    "\n",
    "# Evaluate baseline performance\n",
    "baseline_accuracy = accuracy_score(y_test, baseline_predictions)\n",
    "print(f\"Baseline model accuracy: {baseline_accuracy:.4f}\")\n",
    "print(\"\\nBaseline Classification Report:\")\n",
    "print(classification_report(y_test, baseline_predictions, zero_division=0))"
   ]
  },
  {
   "cell_type": "markdown",
   "metadata": {},
   "source": [
    "## Problem 8: A Simple Model\n",
    "\n",
    "Use Logistic Regression to build a basic model on your data.  "
   ]
  },
  {
   "cell_type": "code",
   "execution_count": 25,
   "metadata": {},
   "outputs": [
    {
     "name": "stdout",
     "output_type": "stream",
     "text": [
      "Logistic Regression model trained in 0.0989 seconds\n"
     ]
    }
   ],
   "source": [
    "from sklearn.linear_model import LogisticRegression\n",
    "\n",
    "# Create and fit a logistic regression model\n",
    "lr_model = LogisticRegression(max_iter=1000, random_state=42)\n",
    "\n",
    "# Time the training\n",
    "import time\n",
    "start_time = time.time()\n",
    "lr_model.fit(X_train, y_train)\n",
    "lr_train_time = time.time() - start_time\n",
    "\n",
    "print(f\"Logistic Regression model trained in {lr_train_time:.4f} seconds\")"
   ]
  },
  {
   "cell_type": "markdown",
   "metadata": {},
   "source": [
    "## Problem 9: Score the Model\n",
    "\n",
    "What is the accuracy of your model?"
   ]
  },
  {
   "cell_type": "code",
   "execution_count": 27,
   "metadata": {},
   "outputs": [
    {
     "name": "stdout",
     "output_type": "stream",
     "text": [
      "Logistic Regression - Training Accuracy: 0.8873\n",
      "Logistic Regression - Testing Accuracy: 0.8874\n",
      "\n",
      "Logistic Regression Classification Report (Test Set):\n",
      "              precision    recall  f1-score   support\n",
      "\n",
      "           0       0.89      1.00      0.94      7310\n",
      "           1       0.00      0.00      0.00       928\n",
      "\n",
      "    accuracy                           0.89      8238\n",
      "   macro avg       0.44      0.50      0.47      8238\n",
      "weighted avg       0.79      0.89      0.83      8238\n",
      "\n",
      "\n",
      "Prediction distribution:\n",
      "Training predictions: [32950]\n",
      "Testing predictions: [8238]\n",
      "Actual test distribution: [7310  928]\n"
     ]
    }
   ],
   "source": [
    "# Make predictions on the training and test sets\n",
    "lr_train_predictions = lr_model.predict(X_train)\n",
    "lr_test_predictions = lr_model.predict(X_test)\n",
    "\n",
    "# Calculate accuracy on both sets\n",
    "lr_train_accuracy = accuracy_score(y_train, lr_train_predictions)\n",
    "lr_test_accuracy = accuracy_score(y_test, lr_test_predictions)\n",
    "\n",
    "print(f\"Logistic Regression - Training Accuracy: {lr_train_accuracy:.4f}\")\n",
    "print(f\"Logistic Regression - Testing Accuracy: {lr_test_accuracy:.4f}\")\n",
    "\n",
    "# Print detailed classification report with zero_division parameter\n",
    "print(\"\\nLogistic Regression Classification Report (Test Set):\")\n",
    "print(classification_report(y_test, lr_test_predictions, zero_division=0))\n",
    "\n",
    "# Let's check class distribution in predictions\n",
    "print(\"\\nPrediction distribution:\")\n",
    "print(f\"Training predictions: {np.bincount(lr_train_predictions)}\")\n",
    "print(f\"Testing predictions: {np.bincount(lr_test_predictions)}\")\n",
    "print(f\"Actual test distribution: {np.bincount(y_test)}\")"
   ]
  },
  {
   "cell_type": "markdown",
   "metadata": {},
   "source": [
    "## Problem 10: Model Comparisons\n",
    "\n",
    "Now, we aim to compare the performance of the Logistic Regression model to our KNN algorithm, Decision Tree, and SVM models.  Using the default settings for each of the models, fit and score each.  Also, be sure to compare the fit time of each of the models.  Present your findings in a `DataFrame` similar to that below:\n",
    "\n",
    "| Model | Train Time | Train Accuracy | Test Accuracy |\n",
    "| ----- | ---------- | -------------  | -----------   |\n",
    "|     |    |.     |.     |"
   ]
  },
  {
   "cell_type": "code",
   "execution_count": 29,
   "metadata": {},
   "outputs": [
    {
     "name": "stdout",
     "output_type": "stream",
     "text": [
      "\n",
      "Training K-Nearest Neighbors...\n",
      "K-Nearest Neighbors - Training Time: 0.0086 seconds\n",
      "K-Nearest Neighbors - Training Accuracy: 0.8917\n",
      "K-Nearest Neighbors - Testing Accuracy: 0.8808\n",
      "\n",
      "Training Decision Tree...\n",
      "Decision Tree - Training Time: 0.0504 seconds\n",
      "Decision Tree - Training Accuracy: 0.9171\n",
      "Decision Tree - Testing Accuracy: 0.8633\n",
      "\n",
      "Training Support Vector Machine...\n",
      "Support Vector Machine - Training Time: 13.9375 seconds\n",
      "Support Vector Machine - Training Accuracy: 0.8883\n",
      "Support Vector Machine - Testing Accuracy: 0.8865\n",
      "\n",
      "Model Comparison Results:\n",
      "                    Model  Train Time (s)  Train Accuracy  Test Accuracy\n",
      "0     Logistic Regression          0.0989          0.8873         0.8874\n",
      "1     K-Nearest Neighbors          0.0086          0.8917         0.8808\n",
      "2           Decision Tree          0.0504          0.9171         0.8633\n",
      "3  Support Vector Machine         13.9375          0.8883         0.8865\n"
     ]
    }
   ],
   "source": [
    "from sklearn.neighbors import KNeighborsClassifier\n",
    "from sklearn.tree import DecisionTreeClassifier\n",
    "from sklearn.svm import SVC\n",
    "import pandas as pd\n",
    "\n",
    "# Dictionary to store model results\n",
    "model_results = {\n",
    "    'Model': [],\n",
    "    'Train Time (s)': [],\n",
    "    'Train Accuracy': [],\n",
    "    'Test Accuracy': []\n",
    "}\n",
    "\n",
    "# Add Logistic Regression results\n",
    "model_results['Model'].append('Logistic Regression')\n",
    "model_results['Train Time (s)'].append(lr_train_time)\n",
    "model_results['Train Accuracy'].append(lr_train_accuracy)\n",
    "model_results['Test Accuracy'].append(lr_test_accuracy)\n",
    "\n",
    "# Define models to compare\n",
    "models = {\n",
    "    'K-Nearest Neighbors': KNeighborsClassifier(),\n",
    "    'Decision Tree': DecisionTreeClassifier(random_state=42),\n",
    "    'Support Vector Machine': SVC(random_state=42)\n",
    "}\n",
    "\n",
    "# Train and evaluate each model\n",
    "for name, model in models.items():\n",
    "    print(f\"\\nTraining {name}...\")\n",
    "    \n",
    "    start_time = time.time()\n",
    "    model.fit(X_train, y_train)\n",
    "    train_time = time.time() - start_time\n",
    "    \n",
    "    train_predictions = model.predict(X_train)\n",
    "    train_acc = accuracy_score(y_train, train_predictions)\n",
    "    \n",
    "    test_predictions = model.predict(X_test)\n",
    "    test_acc = accuracy_score(y_test, test_predictions)\n",
    "    \n",
    "    model_results['Model'].append(name)\n",
    "    model_results['Train Time (s)'].append(train_time)\n",
    "    model_results['Train Accuracy'].append(train_acc)\n",
    "    model_results['Test Accuracy'].append(test_acc)\n",
    "    \n",
    "    print(f\"{name} - Training Time: {train_time:.4f} seconds\")\n",
    "    print(f\"{name} - Training Accuracy: {train_acc:.4f}\")\n",
    "    print(f\"{name} - Testing Accuracy: {test_acc:.4f}\")\n",
    "\n",
    "# Create a DataFrame with all results\n",
    "results_df = pd.DataFrame(model_results)\n",
    "results_df['Train Time (s)'] = results_df['Train Time (s)'].round(4)\n",
    "results_df['Train Accuracy'] = results_df['Train Accuracy'].round(4)\n",
    "results_df['Test Accuracy'] = results_df['Test Accuracy'].round(4)\n",
    "\n",
    "print(\"\\nModel Comparison Results:\")\n",
    "print(results_df)"
   ]
  },
  {
   "cell_type": "markdown",
   "metadata": {},
   "source": [
    "## Problem 11: Improving the Model\n",
    "\n",
    "Now that we have some basic models on the board, we want to try to improve these.  Below, we list a few things to explore in this pursuit.\n",
    "\n",
    "- More feature engineering and exploration.  For example, should we keep the gender feature?  Why or why not?\n",
    "- Hyperparameter tuning and grid search.  All of our models have additional hyperparameters to tune and explore.  For example the number of neighbors in KNN or the maximum depth of a Decision Tree.  \n",
    "- Adjust your performance metric"
   ]
  },
  {
   "cell_type": "code",
   "execution_count": 31,
   "metadata": {},
   "outputs": [
    {
     "name": "stdout",
     "output_type": "stream",
     "text": [
      "Enhanced feature set:\n",
      "Categorical features: ['job', 'marital', 'education', 'default', 'housing', 'loan', 'contact', 'month', 'day_of_week', 'poutcome']\n",
      "Numerical features: ['age', 'campaign', 'pdays', 'previous', 'emp.var.rate', 'cons.price.idx', 'cons.conf.idx', 'euribor3m', 'nr.employed']\n"
     ]
    }
   ],
   "source": [
    "# 1. Feature Engineering: Include more features from the dataset\n",
    "\n",
    "# I'll create a more comprehensive feature set including all features except duration\n",
    "all_features = df.drop(['duration', 'y'], axis=1).columns\n",
    "\n",
    "# Create a copy of the relevant data\n",
    "X_comprehensive = df[all_features].copy()\n",
    "y = df['y'].map({'yes': 1, 'no': 0})  \n",
    "\n",
    "# Identify categorical and numerical features\n",
    "cat_features = X_comprehensive.select_dtypes(include=['object']).columns\n",
    "num_features = X_comprehensive.select_dtypes(include=['int64', 'float64']).columns\n",
    "\n",
    "print(\"Enhanced feature set:\")\n",
    "print(f\"Categorical features: {list(cat_features)}\")\n",
    "print(f\"Numerical features: {list(num_features)}\")\n",
    "\n",
    "# Process categorical features with OneHotEncoder\n",
    "try:\n",
    "    encoder = OneHotEncoder(sparse_output=False, drop='first')\n",
    "except TypeError:\n",
    "    encoder = OneHotEncoder(sparse=False, drop='first')\n",
    "\n",
    "encoded_cats = encoder.fit_transform(X_comprehensive[cat_features])\n",
    "encoded_feature_names = encoder.get_feature_names_out(cat_features)\n",
    "\n",
    "# Process numerical features with StandardScaler\n",
    "scaler = StandardScaler()\n",
    "scaled_nums = scaler.fit_transform(X_comprehensive[num_features])\n",
    "\n",
    "# Combine processed features into a single array\n",
    "X_enhanced = np.hstack((scaled_nums, encoded_cats))\n",
    "\n",
    "# Split the enhanced data\n",
    "X_train_enh, X_test_enh, y_train, y_test = train_test_split(\n",
    "    X_enhanced, y, test_size=0.2, random_state=42, stratify=y\n",
    ")"
   ]
  },
  {
   "cell_type": "code",
   "execution_count": 35,
   "metadata": {},
   "outputs": [
    {
     "name": "stdout",
     "output_type": "stream",
     "text": [
      "\n",
      "Tuning Logistic Regression...\n",
      "Best parameters: {'C': 0.1, 'solver': 'liblinear'}\n",
      "Best cross-validation score: 0.9000\n",
      "Test accuracy with best parameters: 0.9008\n",
      "\n",
      "Tuning K-Nearest Neighbors...\n",
      "Best parameters: {'metric': 'euclidean', 'n_neighbors': 11, 'weights': 'uniform'}\n",
      "Best cross-validation score: 0.8950\n",
      "Test accuracy with best parameters: 0.8980\n",
      "\n",
      "Tuning Decision Tree...\n",
      "Best parameters: {'criterion': 'gini', 'max_depth': 5, 'min_samples_split': 2}\n",
      "Best cross-validation score: 0.8992\n",
      "Test accuracy with best parameters: 0.9022\n"
     ]
    }
   ],
   "source": [
    "# 2. Hyperparameter Tuning with Grid Search\n",
    "from sklearn.model_selection import GridSearchCV\n",
    "\n",
    "# Define parameter grids for each model\n",
    "param_grids = {\n",
    "    'Logistic Regression': {\n",
    "        'model': LogisticRegression(random_state=42, max_iter=10000),\n",
    "        'params': {\n",
    "            'C': [0.01, 0.1, 1, 10],\n",
    "            'solver': ['liblinear']\n",
    "        }\n",
    "    },\n",
    "    'K-Nearest Neighbors': {\n",
    "        'model': KNeighborsClassifier(),\n",
    "        'params': {\n",
    "            'n_neighbors': [3, 5, 7, 9, 11],\n",
    "            'weights': ['uniform', 'distance'],\n",
    "            'metric': ['euclidean', 'manhattan']\n",
    "        }\n",
    "    },\n",
    "    'Decision Tree': {\n",
    "        'model': DecisionTreeClassifier(random_state=42),\n",
    "        'params': {\n",
    "            'max_depth': [None, 5, 10, 15, 20],\n",
    "            'min_samples_split': [2, 5, 10],\n",
    "            'criterion': ['gini', 'entropy']\n",
    "        }\n",
    "    }\n",
    "}\n",
    "\n",
    "# Use cross-validation and grid search to find best parameters\n",
    "best_models = {}\n",
    "\n",
    "for name, config in param_grids.items():\n",
    "    print(f\"\\nTuning {name}...\")\n",
    "    \n",
    "    grid_search = GridSearchCV(\n",
    "        config['model'], \n",
    "        config['params'], \n",
    "        cv=5, \n",
    "        scoring='accuracy',\n",
    "        n_jobs=-1\n",
    "    )\n",
    "    \n",
    "    grid_search.fit(X_train_enh, y_train)\n",
    "    \n",
    "    best_models[name] = grid_search.best_estimator_\n",
    "    \n",
    "    print(f\"Best parameters: {grid_search.best_params_}\")\n",
    "    print(f\"Best cross-validation score: {grid_search.best_score_:.4f}\")\n",
    "    \n",
    "    y_pred = grid_search.predict(X_test_enh)\n",
    "    test_acc = accuracy_score(y_test, y_pred)\n",
    "    print(f\"Test accuracy with best parameters: {test_acc:.4f}\")"
   ]
  },
  {
   "cell_type": "code",
   "execution_count": 37,
   "metadata": {},
   "outputs": [
    {
     "name": "stdout",
     "output_type": "stream",
     "text": [
      "\n",
      "Logistic Regression - Enhanced Evaluation:\n",
      "Accuracy: 0.9008\n",
      "Precision: 0.6881\n",
      "Recall: 0.2188\n",
      "F1 Score: 0.3320\n",
      "AUC: 0.8004\n"
     ]
    },
    {
     "data": {
      "image/png": "[encoded data removed]",
      "text/plain": [
       "<Figure size 800x600 with 1 Axes>"
      ]
     },
     "metadata": {},
     "output_type": "display_data"
    },
    {
     "name": "stdout",
     "output_type": "stream",
     "text": [
      "\n",
      "K-Nearest Neighbors - Enhanced Evaluation:\n",
      "Accuracy: 0.8980\n",
      "Precision: 0.6053\n",
      "Recall: 0.2726\n",
      "F1 Score: 0.3759\n",
      "AUC: 0.7693\n"
     ]
    },
    {
     "data": {
      "image/png": "[encoded data removed]",
      "text/plain": [
       "<Figure size 800x600 with 1 Axes>"
      ]
     },
     "metadata": {},
     "output_type": "display_data"
    },
    {
     "name": "stdout",
     "output_type": "stream",
     "text": [
      "\n",
      "Decision Tree - Enhanced Evaluation:\n",
      "Accuracy: 0.9022\n",
      "Precision: 0.6805\n",
      "Recall: 0.2478\n",
      "F1 Score: 0.3633\n",
      "AUC: 0.7909\n"
     ]
    },
    {
     "data": {
      "image/png": "[encoded data removed]",
      "text/plain": [
       "<Figure size 800x600 with 1 Axes>"
      ]
     },
     "metadata": {},
     "output_type": "display_data"
    }
   ],
   "source": [
    "# 3. Adjust Performance Metric - Use more appropriate metrics for imbalanced classification\n",
    "from sklearn.metrics import precision_recall_fscore_support, roc_auc_score, roc_curve\n",
    "import matplotlib.pyplot as plt\n",
    "\n",
    "# Function to evaluate model with multiple metrics\n",
    "def evaluate_model(model, X_test, y_test, model_name):\n",
    "    y_pred = model.predict(X_test)\n",
    "    \n",
    "    try:\n",
    "        y_pred_proba = model.predict_proba(X_test)[:, 1]\n",
    "        has_proba = True\n",
    "    except:\n",
    "        has_proba = False\n",
    "    \n",
    "    precision, recall, f1, _ = precision_recall_fscore_support(y_test, y_pred, average='binary')\n",
    "    \n",
    "    print(f\"\\n{model_name} - Enhanced Evaluation:\")\n",
    "    print(f\"Accuracy: {accuracy_score(y_test, y_pred):.4f}\")\n",
    "    print(f\"Precision: {precision:.4f}\")\n",
    "    print(f\"Recall: {recall:.4f}\")\n",
    "    print(f\"F1 Score: {f1:.4f}\")\n",
    "    \n",
    "    if has_proba:\n",
    "        auc_score = roc_auc_score(y_test, y_pred_proba)\n",
    "        print(f\"AUC: {auc_score:.4f}\")\n",
    "        \n",
    "        fpr, tpr, _ = roc_curve(y_test, y_pred_proba)\n",
    "        plt.figure(figsize=(8, 6))\n",
    "        plt.plot(fpr, tpr, label=f'{model_name} (AUC = {auc_score:.4f})')\n",
    "        plt.plot([0, 1], [0, 1], 'k--')\n",
    "        plt.xlabel('False Positive Rate')\n",
    "        plt.ylabel('True Positive Rate')\n",
    "        plt.title(f'ROC Curve - {model_name}')\n",
    "        plt.legend()\n",
    "        plt.show()\n",
    "\n",
    "# Evaluate each tuned model\n",
    "for name, model in best_models.items():\n",
    "    evaluate_model(model, X_test_enh, y_test, name)"
   ]
  },
  {
   "cell_type": "code",
   "execution_count": 39,
   "metadata": {},
   "outputs": [
    {
     "name": "stdout",
     "output_type": "stream",
     "text": [
      "\n",
      "Top 10 most important features:\n",
      "1. nr.employed: 0.6427\n",
      "2. pdays: 0.1303\n",
      "3. cons.conf.idx: 0.0628\n",
      "4. euribor3m: 0.0574\n",
      "5. month_oct: 0.0229\n",
      "6. contact_telephone: 0.0212\n",
      "7. cons.price.idx: 0.0195\n",
      "8. age: 0.0121\n",
      "9. previous: 0.0112\n",
      "10. day_of_week_mon: 0.0103\n"
     ]
    },
    {
     "data": {
      "image/png": "[encoded data removed]",
      "text/plain": [
       "<Figure size 1200x600 with 1 Axes>"
      ]
     },
     "metadata": {},
     "output_type": "display_data"
    }
   ],
   "source": [
    "# 4. Feature Importance Analysis for the best model\n",
    "if 'Decision Tree' in best_models:\n",
    "    dt_model = best_models['Decision Tree']\n",
    "    \n",
    "    feature_names = list(num_features) + list(encoded_feature_names)\n",
    "    importances = dt_model.feature_importances_\n",
    "    \n",
    "    indices = np.argsort(importances)[::-1]\n",
    "    \n",
    "    print(\"\\nTop 10 most important features:\")\n",
    "    for i in range(min(10, len(feature_names))):\n",
    "        print(f\"{i+1}. {feature_names[indices[i]]}: {importances[indices[i]]:.4f}\")\n",
    "    \n",
    "    plt.figure(figsize=(12, 6))\n",
    "    plt.title(\"Feature Importances\")\n",
    "    plt.bar(range(min(10, len(feature_names))), \n",
    "            importances[indices[:10]],\n",
    "            align='center')\n",
    "    plt.xticks(range(min(10, len(feature_names))), \n",
    "              [feature_names[i] for i in indices[:10]], \n",
    "              rotation=90)\n",
    "    plt.tight_layout()\n",
    "    plt.show()"
   ]
  },
  {
   "cell_type": "markdown",
   "metadata": {},
   "source": [
    "### 5. Summary of model improvements\n",
    "\n",
    "Summary of Model Improvements:\n",
    "\n",
    "1. Enhanced Feature Set:\n",
    "   - Included additional features beyond basic bank client information\n",
    "   - Used proper encoding and scaling for all features\n",
    "\n",
    "2. Hyperparameter Tuning:\n",
    "   - Used GridSearchCV to find optimal parameters for each model\n",
    "   - Improved model performance by tuning key parameters\n",
    "\n",
    "3. Better Evaluation Metrics:\n",
    "   - Used precision, recall, F1 score and AUC instead of just accuracy\n",
    "   - These metrics are more appropriate for imbalanced classification tasks\n",
    "\n",
    "4. Feature Importance Analysis:\n",
    "   - Identified the most important features influencing the prediction\n",
    "   - Can help with further feature selection or engineering\n",
    "\n",
    "5. Considerations for Real-World Application:\n",
    "   - Excluded 'duration' feature as suggested in the data description\n",
    "   - This makes the model more realistic for pre-call predictions"
   ]
  },
  {
   "cell_type": "code",
   "execution_count": null,
   "metadata": {},
   "outputs": [],
   "source": []
  }
 ],
 "metadata": {
  "kernelspec": {
   "display_name": "Python 3 (ipykernel)",
   "language": "python",
   "name": "python3"
  },
  "language_info": {
   "codemirror_mode": {
    "name": "ipython",
    "version": 3
   },
   "file_extension": ".py",
   "mimetype": "text/x-python",
   "name": "python",
   "nbconvert_exporter": "python",
   "pygments_lexer": "ipython3",
   "version": "3.12.7"
  },
  "widgets": {
   "application/vnd.jupyter.widget-state+json": {
    "state": {},
    "version_major": 2,
    "version_minor": 0
   }
  }
 },
 "nbformat": 4,
 "nbformat_minor": 4
}
